{
 "cells": [
  {
   "cell_type": "code",
   "execution_count": 19,
   "outputs": [],
   "source": [
    "# things we need for NLP\n",
    "import joblib\n",
    "import nltk\n",
    "from nltk.stem.lancaster import LancasterStemmer\n",
    "stemmer = LancasterStemmer()"
   ],
   "metadata": {
    "collapsed": false,
    "pycharm": {
     "name": "#%%\n"
    }
   }
  },
  {
   "cell_type": "code",
   "execution_count": 20,
   "outputs": [],
   "source": [
    "# things we need for Tensorflow\n",
    "import numpy as np\n",
    "import glob\n",
    "import os\n",
    "import tflearn\n",
    "import tensorflow as tf\n",
    "import random\n"
   ],
   "metadata": {
    "collapsed": false,
    "pycharm": {
     "name": "#%%\n"
    }
   }
  },
  {
   "cell_type": "code",
   "execution_count": 21,
   "outputs": [],
   "source": [
    "# import our chat-bot intents file\n",
    "import json\n",
    "with open('data/intents.json') as json_data:\n",
    "    intents = json.load(json_data)\n",
    "\n",
    "files = glob.glob('models/*') #delete the models folder content\n",
    "for f in files:\n",
    "    os.remove(f)"
   ],
   "metadata": {
    "collapsed": false,
    "pycharm": {
     "name": "#%%\n"
    }
   }
  },
  {
   "cell_type": "code",
   "execution_count": 22,
   "outputs": [
    {
     "name": "stdout",
     "output_type": "stream",
     "text": [
      "110 documents\n",
      "30 classes ['Here are some  history movies:', 'Here are some action movies:', 'Here are some adventure movies:', 'Here are some animation movies:', 'Here are some comedy movies:', 'Here are some documentary movies:', 'Here are some drama family movies:', 'Here are some drama movies:', 'Here are some fantasy movies:', 'Here are some horror movies:', 'Here are some most popular movies:', 'Here are some movie genres:', 'Here are some music movies:', 'Here are some mystery movies:', 'Here are some of the highest grossing movies:', 'Here are some romance movies:', 'Here are some science fiction movies:', 'Here are some thriller fiction movies:', 'Some Movies in Chinese are:', 'Some Russian movies:', 'Some movies in Arabic are:', 'Some movies in English are:', 'Some movies in French:', 'Some movies in German:', 'Some movies in Hindi:', 'Some movies in Italian:', 'Some movies in Japanese:', 'Some movies in Korean:', 'Some movies in Portuguese:', 'Some movies in Spanish']\n",
      "82 unique stemmed words [',', 'act', 'admir', 'adv', 'anim', 'ar', 'arab', 'as', 'best', 'cartoon', 'categ', 'childr', 'chin', 'chines', 'comedy', 'demand', 'desir', 'docu', 'dram', 'earn', 'engl', 'famy', 'fantasy', 'favo', 'favourit', 'fi', 'fict', 'film', 'frant', 'french', 'funny', 'genr', 'germ', 'germany', 'gross', 'had', 'highest', 'hind', 'hist', 'hor', 'in', 'ind', 'is', 'it', 'ita', 'jap', 'japanes', 'known', 'kor', 'latin', 'latino', 'lik', 'list', 'mad', 'money', 'most', 'movy', 'mus', 'mystery', 'of', 'pop', 'popul', 'portugues', 'rom', 'russ', 'scary', 'sci', 'sci-f', 'slav', 'sort', 'sought-after', 'span', 'surrend', 'the', 'ther', 'thrill', 'thriller', 'thrilling', 'typ', 'want', 'what', 'which']\n"
     ]
    }
   ],
   "source": [
    "words = []\n",
    "classes = []\n",
    "documents = []\n",
    "ignore_words = ['?']\n",
    "# loop through each sentence in our intents patterns\n",
    "for intent in intents['intents']:\n",
    "    for pattern in intent['patterns']:\n",
    "        # tokenize each word in the sentence\n",
    "        w = nltk.word_tokenize(pattern)\n",
    "        # add to our words list\n",
    "        words.extend(w)\n",
    "        # add to documents in our corpus\n",
    "        documents.append((w, intent['tag']))\n",
    "        # add to our classes list\n",
    "        if intent['tag'] not in classes:\n",
    "            classes.append(intent['tag'])\n",
    "\n",
    "# stem and lower each word and remove duplicates\n",
    "words = [stemmer.stem(w.lower()) for w in words if w not in ignore_words]\n",
    "words = sorted(list(set(words)))\n",
    "\n",
    "# remove duplicates\n",
    "classes = sorted(list(set(classes)))\n",
    "\n",
    "print (len(documents), \"documents\")\n",
    "print (len(classes), \"classes\", classes)\n",
    "print (len(words), \"unique stemmed words\", words)"
   ],
   "metadata": {
    "collapsed": false,
    "pycharm": {
     "name": "#%%\n"
    }
   }
  },
  {
   "cell_type": "code",
   "execution_count": 23,
   "outputs": [
    {
     "name": "stderr",
     "output_type": "stream",
     "text": [
      "<ipython-input-23-9d149b3413ff>:26: VisibleDeprecationWarning: Creating an ndarray from ragged nested sequences (which is a list-or-tuple of lists-or-tuples-or ndarrays with different lengths or shapes) is deprecated. If you meant to do this, you must specify 'dtype=object' when creating the ndarray\n",
      "  training = np.array(training)\n"
     ]
    }
   ],
   "source": [
    "training = []\n",
    "output = []\n",
    "# create an empty array for our output\n",
    "output_empty = [0] * len(classes)\n",
    "\n",
    "# training set, bag of words for each sentence\n",
    "for doc in documents:\n",
    "    # initialize our bag of words\n",
    "    bag = []\n",
    "    # list of tokenized words for the pattern\n",
    "    pattern_words = doc[0]\n",
    "    # stem each word\n",
    "    pattern_words = [stemmer.stem(word.lower()) for word in pattern_words]\n",
    "    # create our bag of words array\n",
    "    for w in words:\n",
    "        bag.append(1) if w in pattern_words else bag.append(0)\n",
    "\n",
    "    # output is a '0' for each tag and '1' for current tag\n",
    "    output_row = list(output_empty)\n",
    "    output_row[classes.index(doc[1])] = 1\n",
    "\n",
    "    training.append([bag, output_row])\n",
    "\n",
    "# shuffle our features and turn into np.array\n",
    "random.shuffle(training)\n",
    "training = np.array(training)\n",
    "\n",
    "# create train and test lists\n",
    "train_x = list(training[:,0])\n",
    "train_y = list(training[:,1])"
   ],
   "metadata": {
    "collapsed": false,
    "pycharm": {
     "name": "#%% create our training data\n"
    }
   }
  },
  {
   "cell_type": "code",
   "execution_count": 24,
   "outputs": [
    {
     "name": "stdout",
     "output_type": "stream",
     "text": [
      "Training Step: 6999  | total loss: \u001B[1m\u001B[32m0.04715\u001B[0m\u001B[0m | time: 0.069s\n",
      "| Adam | epoch: 500 | loss: 0.04715 - acc: 0.9696 -- iter: 104/110\n",
      "Training Step: 7000  | total loss: \u001B[1m\u001B[32m0.04284\u001B[0m\u001B[0m | time: 0.073s\n",
      "| Adam | epoch: 500 | loss: 0.04284 - acc: 0.9726 -- iter: 110/110\n",
      "--\n",
      "INFO:tensorflow:C:\\Users\\Daniel Krasovski\\Documents\\GitHub\\Project_Oreo\\models\\model.tflearn is not in all_model_checkpoint_paths. Manually adding it.\n"
     ]
    }
   ],
   "source": [
    "# reset underlying graph data\n",
    "tf.compat.v1.reset_default_graph()\n",
    "# Build neural network\n",
    "net = tflearn.input_data(shape=[None, len(train_x[0])])\n",
    "net = tflearn.fully_connected(net, 8)\n",
    "net = tflearn.fully_connected(net, 8)\n",
    "net = tflearn.fully_connected(net, len(train_y[0]), activation='softmax')\n",
    "net = tflearn.regression(net)\n",
    "\n",
    "# Define model and setup tensorboard\n",
    "model = tflearn.DNN(net, tensorboard_dir='tflearn_logs')\n",
    "# Start training (apply gradient descent algorithm)\n",
    "model.fit(train_x, train_y, n_epoch=420, batch_size=8, show_metric=True)\n",
    "model.save('models/model.tflearn')"
   ],
   "metadata": {
    "collapsed": false,
    "pycharm": {
     "name": "#%%\n"
    }
   }
  },
  {
   "cell_type": "code",
   "execution_count": 25,
   "outputs": [],
   "source": [
    "import pickle\n",
    "pickle.dump( {'words':words, 'classes':classes, 'train_x':train_x, 'train_y':train_y}, open( \"models/training_data\", \"wb\" ) )\n",
    "\n"
   ],
   "metadata": {
    "collapsed": false,
    "pycharm": {
     "name": "#%% save all of our data structures\n"
    }
   }
  }
 ],
 "metadata": {
  "kernelspec": {
   "display_name": "Python 3",
   "language": "python",
   "name": "python3"
  },
  "language_info": {
   "codemirror_mode": {
    "name": "ipython",
    "version": 2
   },
   "file_extension": ".py",
   "mimetype": "text/x-python",
   "name": "python",
   "nbconvert_exporter": "python",
   "pygments_lexer": "ipython2",
   "version": "2.7.6"
  }
 },
 "nbformat": 4,
 "nbformat_minor": 0
}