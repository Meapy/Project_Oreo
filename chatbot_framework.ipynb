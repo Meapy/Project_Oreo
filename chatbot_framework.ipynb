{
 "cells": [
  {
   "cell_type": "code",
   "execution_count": 52,
   "metadata": {
    "collapsed": true
   },
   "outputs": [],
   "source": [
    "# things we need for NLP\n",
    "import nltk\n",
    "from nltk.stem.lancaster import LancasterStemmer\n",
    "stemmer = LancasterStemmer()\n",
    "\n",
    "# things we need for Tensorflow\n",
    "import numpy as np\n",
    "import tflearn\n",
    "import tensorflow as tf\n",
    "import random"
   ]
  },
  {
   "cell_type": "code",
   "execution_count": 53,
   "outputs": [],
   "source": [
    "# restore all of our data structures\n",
    "import pickle\n",
    "data = pickle.load( open( \"models/training_data\", \"rb\" ) )\n",
    "words = data['words']\n",
    "classes = data['classes']\n",
    "train_x = data['train_x']\n",
    "train_y = data['train_y']\n",
    "\n",
    "# import our chat-bot intents file\n",
    "import json\n",
    "with open('data/intents.json') as json_data:\n",
    "    intents = json.load(json_data)"
   ],
   "metadata": {
    "collapsed": false,
    "pycharm": {
     "name": "#%%\n"
    }
   }
  },
  {
   "cell_type": "code",
   "execution_count": 54,
   "outputs": [],
   "source": [
    "# Build neural network\n",
    "net = tflearn.input_data(shape=[None, len(train_x[0])])\n",
    "net = tflearn.fully_connected(net, 8)\n",
    "net = tflearn.fully_connected(net, 8)\n",
    "net = tflearn.fully_connected(net, len(train_y[0]), activation='softmax')\n",
    "net = tflearn.regression(net)\n",
    "\n",
    "# Define model and setup tensorboard\n",
    "model = tflearn.DNN(net, tensorboard_dir='tflearn_logs')"
   ],
   "metadata": {
    "collapsed": false,
    "pycharm": {
     "name": "#%%\n"
    }
   }
  },
  {
   "cell_type": "code",
   "execution_count": 55,
   "outputs": [],
   "source": [
    "def clean_up_sentence(sentence):\n",
    "    # tokenize the pattern\n",
    "    sentence_words = nltk.word_tokenize(sentence)\n",
    "    # stem each word\n",
    "    sentence_words = [stemmer.stem(word.lower()) for word in sentence_words]\n",
    "    return sentence_words\n",
    "\n",
    "# return bag of words array: 0 or 1 for each word in the bag that exists in the sentence\n",
    "def bow(sentence, words, show_details=False):\n",
    "    # tokenize the pattern\n",
    "    sentence_words = clean_up_sentence(sentence)\n",
    "    # bag of words\n",
    "    bag = [0]*len(words)\n",
    "    for s in sentence_words:\n",
    "        for i,w in enumerate(words):\n",
    "            if w == s:\n",
    "                bag[i] = 1\n",
    "                if show_details:\n",
    "                    print (\"found in bag: %s\" % w)\n",
    "\n",
    "    return(np.array(bag))"
   ],
   "metadata": {
    "collapsed": false,
    "pycharm": {
     "name": "#%%\n"
    }
   }
  },
  {
   "cell_type": "code",
   "execution_count": 56,
   "outputs": [
    {
     "name": "stdout",
     "output_type": "stream",
     "text": [
      "[0 0 0 0 0 0 0 0 0 0 0 0 0 0 0 0 0 0 0 0 0 0 0 0 0 0 0 1 1 0 0 0 0 0 0 0 0\n",
      " 0 0 0 0 0 0 0 0 1 0 0 0 0 0 0 0 0 0 0 0 1 0 0 0 0 0]\n",
      "['genres', 'goodbye', 'highest grossing', 'languages_ar', 'languages_cn', 'languages_de', 'languages_en', 'languages_es', 'languages_fr', 'languages_hi', 'languages_it', 'languages_ja', 'languages_kr', 'languages_pt', 'languages_ru', 'most popular']\n"
     ]
    }
   ],
   "source": [
    "\n",
    "p = bow(\"is there an indian movie?\", words)\n",
    "print (p)\n",
    "print (classes)"
   ],
   "metadata": {
    "collapsed": false,
    "pycharm": {
     "name": "#%%\n"
    }
   }
  },
  {
   "cell_type": "code",
   "execution_count": 57,
   "outputs": [
    {
     "name": "stdout",
     "output_type": "stream",
     "text": [
      "INFO:tensorflow:Restoring parameters from C:\\Users\\Daniel Krasovski\\Documents\\GitHub\\Project_Oreo\\models\\model.tflearn\n"
     ]
    },
    {
     "ename": "NotFoundError",
     "evalue": "Restoring from checkpoint failed. This is most likely due to a Variable name or other graph key that is missing from the checkpoint. Please ensure that you have not altered the graph expected based on the checkpoint. Original error:\n\nKey Accuracy/Mean/moving_avg_1 not found in checkpoint\n\t [[node save_34/RestoreV2 (defined at C:\\Users\\Daniel Krasovski\\anaconda3\\envs\\Project_Oreo\\lib\\site-packages\\tflearn\\helpers\\trainer.py:149) ]]\n\nOriginal stack trace for 'save_34/RestoreV2':\n  File \"C:\\Users\\Daniel Krasovski\\anaconda3\\envs\\Project_Oreo\\lib\\runpy.py\", line 194, in _run_module_as_main\n    return _run_code(code, main_globals, None,\n  File \"C:\\Users\\Daniel Krasovski\\anaconda3\\envs\\Project_Oreo\\lib\\runpy.py\", line 87, in _run_code\n    exec(code, run_globals)\n  File \"C:\\Users\\Daniel Krasovski\\anaconda3\\envs\\Project_Oreo\\lib\\site-packages\\ipykernel_launcher.py\", line 16, in <module>\n    app.launch_new_instance()\n  File \"C:\\Users\\Daniel Krasovski\\anaconda3\\envs\\Project_Oreo\\lib\\site-packages\\traitlets\\config\\application.py\", line 845, in launch_instance\n    app.start()\n  File \"C:\\Users\\Daniel Krasovski\\anaconda3\\envs\\Project_Oreo\\lib\\site-packages\\ipykernel\\kernelapp.py\", line 612, in start\n    self.io_loop.start()\n  File \"C:\\Users\\Daniel Krasovski\\anaconda3\\envs\\Project_Oreo\\lib\\site-packages\\tornado\\platform\\asyncio.py\", line 199, in start\n    self.asyncio_loop.run_forever()\n  File \"C:\\Users\\Daniel Krasovski\\anaconda3\\envs\\Project_Oreo\\lib\\asyncio\\base_events.py\", line 570, in run_forever\n    self._run_once()\n  File \"C:\\Users\\Daniel Krasovski\\anaconda3\\envs\\Project_Oreo\\lib\\asyncio\\base_events.py\", line 1859, in _run_once\n    handle._run()\n  File \"C:\\Users\\Daniel Krasovski\\anaconda3\\envs\\Project_Oreo\\lib\\asyncio\\events.py\", line 81, in _run\n    self._context.run(self._callback, *self._args)\n  File \"C:\\Users\\Daniel Krasovski\\anaconda3\\envs\\Project_Oreo\\lib\\site-packages\\tornado\\ioloop.py\", line 688, in <lambda>\n    lambda f: self._run_callback(functools.partial(callback, future))\n  File \"C:\\Users\\Daniel Krasovski\\anaconda3\\envs\\Project_Oreo\\lib\\site-packages\\tornado\\ioloop.py\", line 741, in _run_callback\n    ret = callback()\n  File \"C:\\Users\\Daniel Krasovski\\anaconda3\\envs\\Project_Oreo\\lib\\site-packages\\tornado\\gen.py\", line 814, in inner\n    self.ctx_run(self.run)\n  File \"C:\\Users\\Daniel Krasovski\\anaconda3\\envs\\Project_Oreo\\lib\\site-packages\\tornado\\gen.py\", line 775, in run\n    yielded = self.gen.send(value)\n  File \"C:\\Users\\Daniel Krasovski\\anaconda3\\envs\\Project_Oreo\\lib\\site-packages\\ipykernel\\kernelbase.py\", line 365, in process_one\n    yield gen.maybe_future(dispatch(*args))\n  File \"C:\\Users\\Daniel Krasovski\\anaconda3\\envs\\Project_Oreo\\lib\\site-packages\\tornado\\gen.py\", line 234, in wrapper\n    yielded = ctx_run(next, result)\n  File \"C:\\Users\\Daniel Krasovski\\anaconda3\\envs\\Project_Oreo\\lib\\site-packages\\ipykernel\\kernelbase.py\", line 268, in dispatch_shell\n    yield gen.maybe_future(handler(stream, idents, msg))\n  File \"C:\\Users\\Daniel Krasovski\\anaconda3\\envs\\Project_Oreo\\lib\\site-packages\\tornado\\gen.py\", line 234, in wrapper\n    yielded = ctx_run(next, result)\n  File \"C:\\Users\\Daniel Krasovski\\anaconda3\\envs\\Project_Oreo\\lib\\site-packages\\ipykernel\\kernelbase.py\", line 543, in execute_request\n    self.do_execute(\n  File \"C:\\Users\\Daniel Krasovski\\anaconda3\\envs\\Project_Oreo\\lib\\site-packages\\tornado\\gen.py\", line 234, in wrapper\n    yielded = ctx_run(next, result)\n  File \"C:\\Users\\Daniel Krasovski\\anaconda3\\envs\\Project_Oreo\\lib\\site-packages\\ipykernel\\ipkernel.py\", line 306, in do_execute\n    res = shell.run_cell(code, store_history=store_history, silent=silent)\n  File \"C:\\Users\\Daniel Krasovski\\anaconda3\\envs\\Project_Oreo\\lib\\site-packages\\ipykernel\\zmqshell.py\", line 536, in run_cell\n    return super(ZMQInteractiveShell, self).run_cell(*args, **kwargs)\n  File \"C:\\Users\\Daniel Krasovski\\anaconda3\\envs\\Project_Oreo\\lib\\site-packages\\IPython\\core\\interactiveshell.py\", line 2877, in run_cell\n    result = self._run_cell(\n  File \"C:\\Users\\Daniel Krasovski\\anaconda3\\envs\\Project_Oreo\\lib\\site-packages\\IPython\\core\\interactiveshell.py\", line 2923, in _run_cell\n    return runner(coro)\n  File \"C:\\Users\\Daniel Krasovski\\anaconda3\\envs\\Project_Oreo\\lib\\site-packages\\IPython\\core\\async_helpers.py\", line 68, in _pseudo_sync_runner\n    coro.send(None)\n  File \"C:\\Users\\Daniel Krasovski\\anaconda3\\envs\\Project_Oreo\\lib\\site-packages\\IPython\\core\\interactiveshell.py\", line 3146, in run_cell_async\n    has_raised = await self.run_ast_nodes(code_ast.body, cell_name,\n  File \"C:\\Users\\Daniel Krasovski\\anaconda3\\envs\\Project_Oreo\\lib\\site-packages\\IPython\\core\\interactiveshell.py\", line 3338, in run_ast_nodes\n    if (await self.run_code(code, result,  async_=asy)):\n  File \"C:\\Users\\Daniel Krasovski\\anaconda3\\envs\\Project_Oreo\\lib\\site-packages\\IPython\\core\\interactiveshell.py\", line 3418, in run_code\n    exec(code_obj, self.user_global_ns, self.user_ns)\n  File \"<ipython-input-54-b216df407687>\", line 9, in <module>\n    model = tflearn.DNN(net, tensorboard_dir='tflearn_logs')\n  File \"C:\\Users\\Daniel Krasovski\\anaconda3\\envs\\Project_Oreo\\lib\\site-packages\\tflearn\\models\\dnn.py\", line 57, in __init__\n    self.trainer = Trainer(self.train_ops,\n  File \"C:\\Users\\Daniel Krasovski\\anaconda3\\envs\\Project_Oreo\\lib\\site-packages\\tflearn\\helpers\\trainer.py\", line 149, in __init__\n    self.restorer = tf.train.Saver(\n  File \"C:\\Users\\Daniel Krasovski\\AppData\\Roaming\\Python\\Python38\\site-packages\\tensorflow\\python\\training\\saver.py\", line 836, in __init__\n    self.build()\n  File \"C:\\Users\\Daniel Krasovski\\AppData\\Roaming\\Python\\Python38\\site-packages\\tensorflow\\python\\training\\saver.py\", line 848, in build\n    self._build(self._filename, build_save=True, build_restore=True)\n  File \"C:\\Users\\Daniel Krasovski\\AppData\\Roaming\\Python\\Python38\\site-packages\\tensorflow\\python\\training\\saver.py\", line 876, in _build\n    self.saver_def = self._builder._build_internal(  # pylint: disable=protected-access\n  File \"C:\\Users\\Daniel Krasovski\\AppData\\Roaming\\Python\\Python38\\site-packages\\tensorflow\\python\\training\\saver.py\", line 515, in _build_internal\n    restore_op = self._AddRestoreOps(filename_tensor, saveables,\n  File \"C:\\Users\\Daniel Krasovski\\AppData\\Roaming\\Python\\Python38\\site-packages\\tensorflow\\python\\training\\saver.py\", line 335, in _AddRestoreOps\n    all_tensors = self.bulk_restore(filename_tensor, saveables, preferred_shard,\n  File \"C:\\Users\\Daniel Krasovski\\AppData\\Roaming\\Python\\Python38\\site-packages\\tensorflow\\python\\training\\saver.py\", line 583, in bulk_restore\n    return io_ops.restore_v2(filename_tensor, names, slices, dtypes)\n  File \"C:\\Users\\Daniel Krasovski\\AppData\\Roaming\\Python\\Python38\\site-packages\\tensorflow\\python\\ops\\gen_io_ops.py\", line 1520, in restore_v2\n    _, _, _op, _outputs = _op_def_library._apply_op_helper(\n  File \"C:\\Users\\Daniel Krasovski\\AppData\\Roaming\\Python\\Python38\\site-packages\\tensorflow\\python\\framework\\op_def_library.py\", line 742, in _apply_op_helper\n    op = g._create_op_internal(op_type_name, inputs, dtypes=None,\n  File \"C:\\Users\\Daniel Krasovski\\AppData\\Roaming\\Python\\Python38\\site-packages\\tensorflow\\python\\framework\\ops.py\", line 3477, in _create_op_internal\n    ret = Operation(\n  File \"C:\\Users\\Daniel Krasovski\\AppData\\Roaming\\Python\\Python38\\site-packages\\tensorflow\\python\\framework\\ops.py\", line 1949, in __init__\n    self._traceback = tf_stack.extract_stack()\n",
     "output_type": "error",
     "traceback": [
      "\u001B[1;31m---------------------------------------------------------------------------\u001B[0m",
      "\u001B[1;31mNotFoundError\u001B[0m                             Traceback (most recent call last)",
      "\u001B[1;32m~\\AppData\\Roaming\\Python\\Python38\\site-packages\\tensorflow\\python\\client\\session.py\u001B[0m in \u001B[0;36m_do_call\u001B[1;34m(self, fn, *args)\u001B[0m\n\u001B[0;32m   1364\u001B[0m     \u001B[1;32mtry\u001B[0m\u001B[1;33m:\u001B[0m\u001B[1;33m\u001B[0m\u001B[1;33m\u001B[0m\u001B[0m\n\u001B[1;32m-> 1365\u001B[1;33m       \u001B[1;32mreturn\u001B[0m \u001B[0mfn\u001B[0m\u001B[1;33m(\u001B[0m\u001B[1;33m*\u001B[0m\u001B[0margs\u001B[0m\u001B[1;33m)\u001B[0m\u001B[1;33m\u001B[0m\u001B[1;33m\u001B[0m\u001B[0m\n\u001B[0m\u001B[0;32m   1366\u001B[0m     \u001B[1;32mexcept\u001B[0m \u001B[0merrors\u001B[0m\u001B[1;33m.\u001B[0m\u001B[0mOpError\u001B[0m \u001B[1;32mas\u001B[0m \u001B[0me\u001B[0m\u001B[1;33m:\u001B[0m\u001B[1;33m\u001B[0m\u001B[1;33m\u001B[0m\u001B[0m\n",
      "\u001B[1;32m~\\AppData\\Roaming\\Python\\Python38\\site-packages\\tensorflow\\python\\client\\session.py\u001B[0m in \u001B[0;36m_run_fn\u001B[1;34m(feed_dict, fetch_list, target_list, options, run_metadata)\u001B[0m\n\u001B[0;32m   1348\u001B[0m       \u001B[0mself\u001B[0m\u001B[1;33m.\u001B[0m\u001B[0m_extend_graph\u001B[0m\u001B[1;33m(\u001B[0m\u001B[1;33m)\u001B[0m\u001B[1;33m\u001B[0m\u001B[1;33m\u001B[0m\u001B[0m\n\u001B[1;32m-> 1349\u001B[1;33m       return self._call_tf_sessionrun(options, feed_dict, fetch_list,\n\u001B[0m\u001B[0;32m   1350\u001B[0m                                       target_list, run_metadata)\n",
      "\u001B[1;32m~\\AppData\\Roaming\\Python\\Python38\\site-packages\\tensorflow\\python\\client\\session.py\u001B[0m in \u001B[0;36m_call_tf_sessionrun\u001B[1;34m(self, options, feed_dict, fetch_list, target_list, run_metadata)\u001B[0m\n\u001B[0;32m   1440\u001B[0m                           run_metadata):\n\u001B[1;32m-> 1441\u001B[1;33m     return tf_session.TF_SessionRun_wrapper(self._session, options, feed_dict,\n\u001B[0m\u001B[0;32m   1442\u001B[0m                                             \u001B[0mfetch_list\u001B[0m\u001B[1;33m,\u001B[0m \u001B[0mtarget_list\u001B[0m\u001B[1;33m,\u001B[0m\u001B[1;33m\u001B[0m\u001B[1;33m\u001B[0m\u001B[0m\n",
      "\u001B[1;31mNotFoundError\u001B[0m: Key Accuracy/Mean/moving_avg_1 not found in checkpoint\n\t [[{{node save_34/RestoreV2}}]]",
      "\nDuring handling of the above exception, another exception occurred:\n",
      "\u001B[1;31mNotFoundError\u001B[0m                             Traceback (most recent call last)",
      "\u001B[1;32m~\\AppData\\Roaming\\Python\\Python38\\site-packages\\tensorflow\\python\\training\\saver.py\u001B[0m in \u001B[0;36mrestore\u001B[1;34m(self, sess, save_path)\u001B[0m\n\u001B[0;32m   1297\u001B[0m       \u001B[1;32melse\u001B[0m\u001B[1;33m:\u001B[0m\u001B[1;33m\u001B[0m\u001B[1;33m\u001B[0m\u001B[0m\n\u001B[1;32m-> 1298\u001B[1;33m         sess.run(self.saver_def.restore_op_name,\n\u001B[0m\u001B[0;32m   1299\u001B[0m                  {self.saver_def.filename_tensor_name: save_path})\n",
      "\u001B[1;32m~\\AppData\\Roaming\\Python\\Python38\\site-packages\\tensorflow\\python\\client\\session.py\u001B[0m in \u001B[0;36mrun\u001B[1;34m(self, fetches, feed_dict, options, run_metadata)\u001B[0m\n\u001B[0;32m    956\u001B[0m     \u001B[1;32mtry\u001B[0m\u001B[1;33m:\u001B[0m\u001B[1;33m\u001B[0m\u001B[1;33m\u001B[0m\u001B[0m\n\u001B[1;32m--> 957\u001B[1;33m       result = self._run(None, fetches, feed_dict, options_ptr,\n\u001B[0m\u001B[0;32m    958\u001B[0m                          run_metadata_ptr)\n",
      "\u001B[1;32m~\\AppData\\Roaming\\Python\\Python38\\site-packages\\tensorflow\\python\\client\\session.py\u001B[0m in \u001B[0;36m_run\u001B[1;34m(self, handle, fetches, feed_dict, options, run_metadata)\u001B[0m\n\u001B[0;32m   1179\u001B[0m     \u001B[1;32mif\u001B[0m \u001B[0mfinal_fetches\u001B[0m \u001B[1;32mor\u001B[0m \u001B[0mfinal_targets\u001B[0m \u001B[1;32mor\u001B[0m \u001B[1;33m(\u001B[0m\u001B[0mhandle\u001B[0m \u001B[1;32mand\u001B[0m \u001B[0mfeed_dict_tensor\u001B[0m\u001B[1;33m)\u001B[0m\u001B[1;33m:\u001B[0m\u001B[1;33m\u001B[0m\u001B[1;33m\u001B[0m\u001B[0m\n\u001B[1;32m-> 1180\u001B[1;33m       results = self._do_run(handle, final_targets, final_fetches,\n\u001B[0m\u001B[0;32m   1181\u001B[0m                              feed_dict_tensor, options, run_metadata)\n",
      "\u001B[1;32m~\\AppData\\Roaming\\Python\\Python38\\site-packages\\tensorflow\\python\\client\\session.py\u001B[0m in \u001B[0;36m_do_run\u001B[1;34m(self, handle, target_list, fetch_list, feed_dict, options, run_metadata)\u001B[0m\n\u001B[0;32m   1357\u001B[0m     \u001B[1;32mif\u001B[0m \u001B[0mhandle\u001B[0m \u001B[1;32mis\u001B[0m \u001B[1;32mNone\u001B[0m\u001B[1;33m:\u001B[0m\u001B[1;33m\u001B[0m\u001B[1;33m\u001B[0m\u001B[0m\n\u001B[1;32m-> 1358\u001B[1;33m       return self._do_call(_run_fn, feeds, fetches, targets, options,\n\u001B[0m\u001B[0;32m   1359\u001B[0m                            run_metadata)\n",
      "\u001B[1;32m~\\AppData\\Roaming\\Python\\Python38\\site-packages\\tensorflow\\python\\client\\session.py\u001B[0m in \u001B[0;36m_do_call\u001B[1;34m(self, fn, *args)\u001B[0m\n\u001B[0;32m   1383\u001B[0m                     'disable_meta_optimizer = True')\n\u001B[1;32m-> 1384\u001B[1;33m       \u001B[1;32mraise\u001B[0m \u001B[0mtype\u001B[0m\u001B[1;33m(\u001B[0m\u001B[0me\u001B[0m\u001B[1;33m)\u001B[0m\u001B[1;33m(\u001B[0m\u001B[0mnode_def\u001B[0m\u001B[1;33m,\u001B[0m \u001B[0mop\u001B[0m\u001B[1;33m,\u001B[0m \u001B[0mmessage\u001B[0m\u001B[1;33m)\u001B[0m\u001B[1;33m\u001B[0m\u001B[1;33m\u001B[0m\u001B[0m\n\u001B[0m\u001B[0;32m   1385\u001B[0m \u001B[1;33m\u001B[0m\u001B[0m\n",
      "\u001B[1;31mNotFoundError\u001B[0m: Key Accuracy/Mean/moving_avg_1 not found in checkpoint\n\t [[node save_34/RestoreV2 (defined at C:\\Users\\Daniel Krasovski\\anaconda3\\envs\\Project_Oreo\\lib\\site-packages\\tflearn\\helpers\\trainer.py:149) ]]\n\nOriginal stack trace for 'save_34/RestoreV2':\n  File \"C:\\Users\\Daniel Krasovski\\anaconda3\\envs\\Project_Oreo\\lib\\runpy.py\", line 194, in _run_module_as_main\n    return _run_code(code, main_globals, None,\n  File \"C:\\Users\\Daniel Krasovski\\anaconda3\\envs\\Project_Oreo\\lib\\runpy.py\", line 87, in _run_code\n    exec(code, run_globals)\n  File \"C:\\Users\\Daniel Krasovski\\anaconda3\\envs\\Project_Oreo\\lib\\site-packages\\ipykernel_launcher.py\", line 16, in <module>\n    app.launch_new_instance()\n  File \"C:\\Users\\Daniel Krasovski\\anaconda3\\envs\\Project_Oreo\\lib\\site-packages\\traitlets\\config\\application.py\", line 845, in launch_instance\n    app.start()\n  File \"C:\\Users\\Daniel Krasovski\\anaconda3\\envs\\Project_Oreo\\lib\\site-packages\\ipykernel\\kernelapp.py\", line 612, in start\n    self.io_loop.start()\n  File \"C:\\Users\\Daniel Krasovski\\anaconda3\\envs\\Project_Oreo\\lib\\site-packages\\tornado\\platform\\asyncio.py\", line 199, in start\n    self.asyncio_loop.run_forever()\n  File \"C:\\Users\\Daniel Krasovski\\anaconda3\\envs\\Project_Oreo\\lib\\asyncio\\base_events.py\", line 570, in run_forever\n    self._run_once()\n  File \"C:\\Users\\Daniel Krasovski\\anaconda3\\envs\\Project_Oreo\\lib\\asyncio\\base_events.py\", line 1859, in _run_once\n    handle._run()\n  File \"C:\\Users\\Daniel Krasovski\\anaconda3\\envs\\Project_Oreo\\lib\\asyncio\\events.py\", line 81, in _run\n    self._context.run(self._callback, *self._args)\n  File \"C:\\Users\\Daniel Krasovski\\anaconda3\\envs\\Project_Oreo\\lib\\site-packages\\tornado\\ioloop.py\", line 688, in <lambda>\n    lambda f: self._run_callback(functools.partial(callback, future))\n  File \"C:\\Users\\Daniel Krasovski\\anaconda3\\envs\\Project_Oreo\\lib\\site-packages\\tornado\\ioloop.py\", line 741, in _run_callback\n    ret = callback()\n  File \"C:\\Users\\Daniel Krasovski\\anaconda3\\envs\\Project_Oreo\\lib\\site-packages\\tornado\\gen.py\", line 814, in inner\n    self.ctx_run(self.run)\n  File \"C:\\Users\\Daniel Krasovski\\anaconda3\\envs\\Project_Oreo\\lib\\site-packages\\tornado\\gen.py\", line 775, in run\n    yielded = self.gen.send(value)\n  File \"C:\\Users\\Daniel Krasovski\\anaconda3\\envs\\Project_Oreo\\lib\\site-packages\\ipykernel\\kernelbase.py\", line 365, in process_one\n    yield gen.maybe_future(dispatch(*args))\n  File \"C:\\Users\\Daniel Krasovski\\anaconda3\\envs\\Project_Oreo\\lib\\site-packages\\tornado\\gen.py\", line 234, in wrapper\n    yielded = ctx_run(next, result)\n  File \"C:\\Users\\Daniel Krasovski\\anaconda3\\envs\\Project_Oreo\\lib\\site-packages\\ipykernel\\kernelbase.py\", line 268, in dispatch_shell\n    yield gen.maybe_future(handler(stream, idents, msg))\n  File \"C:\\Users\\Daniel Krasovski\\anaconda3\\envs\\Project_Oreo\\lib\\site-packages\\tornado\\gen.py\", line 234, in wrapper\n    yielded = ctx_run(next, result)\n  File \"C:\\Users\\Daniel Krasovski\\anaconda3\\envs\\Project_Oreo\\lib\\site-packages\\ipykernel\\kernelbase.py\", line 543, in execute_request\n    self.do_execute(\n  File \"C:\\Users\\Daniel Krasovski\\anaconda3\\envs\\Project_Oreo\\lib\\site-packages\\tornado\\gen.py\", line 234, in wrapper\n    yielded = ctx_run(next, result)\n  File \"C:\\Users\\Daniel Krasovski\\anaconda3\\envs\\Project_Oreo\\lib\\site-packages\\ipykernel\\ipkernel.py\", line 306, in do_execute\n    res = shell.run_cell(code, store_history=store_history, silent=silent)\n  File \"C:\\Users\\Daniel Krasovski\\anaconda3\\envs\\Project_Oreo\\lib\\site-packages\\ipykernel\\zmqshell.py\", line 536, in run_cell\n    return super(ZMQInteractiveShell, self).run_cell(*args, **kwargs)\n  File \"C:\\Users\\Daniel Krasovski\\anaconda3\\envs\\Project_Oreo\\lib\\site-packages\\IPython\\core\\interactiveshell.py\", line 2877, in run_cell\n    result = self._run_cell(\n  File \"C:\\Users\\Daniel Krasovski\\anaconda3\\envs\\Project_Oreo\\lib\\site-packages\\IPython\\core\\interactiveshell.py\", line 2923, in _run_cell\n    return runner(coro)\n  File \"C:\\Users\\Daniel Krasovski\\anaconda3\\envs\\Project_Oreo\\lib\\site-packages\\IPython\\core\\async_helpers.py\", line 68, in _pseudo_sync_runner\n    coro.send(None)\n  File \"C:\\Users\\Daniel Krasovski\\anaconda3\\envs\\Project_Oreo\\lib\\site-packages\\IPython\\core\\interactiveshell.py\", line 3146, in run_cell_async\n    has_raised = await self.run_ast_nodes(code_ast.body, cell_name,\n  File \"C:\\Users\\Daniel Krasovski\\anaconda3\\envs\\Project_Oreo\\lib\\site-packages\\IPython\\core\\interactiveshell.py\", line 3338, in run_ast_nodes\n    if (await self.run_code(code, result,  async_=asy)):\n  File \"C:\\Users\\Daniel Krasovski\\anaconda3\\envs\\Project_Oreo\\lib\\site-packages\\IPython\\core\\interactiveshell.py\", line 3418, in run_code\n    exec(code_obj, self.user_global_ns, self.user_ns)\n  File \"<ipython-input-54-b216df407687>\", line 9, in <module>\n    model = tflearn.DNN(net, tensorboard_dir='tflearn_logs')\n  File \"C:\\Users\\Daniel Krasovski\\anaconda3\\envs\\Project_Oreo\\lib\\site-packages\\tflearn\\models\\dnn.py\", line 57, in __init__\n    self.trainer = Trainer(self.train_ops,\n  File \"C:\\Users\\Daniel Krasovski\\anaconda3\\envs\\Project_Oreo\\lib\\site-packages\\tflearn\\helpers\\trainer.py\", line 149, in __init__\n    self.restorer = tf.train.Saver(\n  File \"C:\\Users\\Daniel Krasovski\\AppData\\Roaming\\Python\\Python38\\site-packages\\tensorflow\\python\\training\\saver.py\", line 836, in __init__\n    self.build()\n  File \"C:\\Users\\Daniel Krasovski\\AppData\\Roaming\\Python\\Python38\\site-packages\\tensorflow\\python\\training\\saver.py\", line 848, in build\n    self._build(self._filename, build_save=True, build_restore=True)\n  File \"C:\\Users\\Daniel Krasovski\\AppData\\Roaming\\Python\\Python38\\site-packages\\tensorflow\\python\\training\\saver.py\", line 876, in _build\n    self.saver_def = self._builder._build_internal(  # pylint: disable=protected-access\n  File \"C:\\Users\\Daniel Krasovski\\AppData\\Roaming\\Python\\Python38\\site-packages\\tensorflow\\python\\training\\saver.py\", line 515, in _build_internal\n    restore_op = self._AddRestoreOps(filename_tensor, saveables,\n  File \"C:\\Users\\Daniel Krasovski\\AppData\\Roaming\\Python\\Python38\\site-packages\\tensorflow\\python\\training\\saver.py\", line 335, in _AddRestoreOps\n    all_tensors = self.bulk_restore(filename_tensor, saveables, preferred_shard,\n  File \"C:\\Users\\Daniel Krasovski\\AppData\\Roaming\\Python\\Python38\\site-packages\\tensorflow\\python\\training\\saver.py\", line 583, in bulk_restore\n    return io_ops.restore_v2(filename_tensor, names, slices, dtypes)\n  File \"C:\\Users\\Daniel Krasovski\\AppData\\Roaming\\Python\\Python38\\site-packages\\tensorflow\\python\\ops\\gen_io_ops.py\", line 1520, in restore_v2\n    _, _, _op, _outputs = _op_def_library._apply_op_helper(\n  File \"C:\\Users\\Daniel Krasovski\\AppData\\Roaming\\Python\\Python38\\site-packages\\tensorflow\\python\\framework\\op_def_library.py\", line 742, in _apply_op_helper\n    op = g._create_op_internal(op_type_name, inputs, dtypes=None,\n  File \"C:\\Users\\Daniel Krasovski\\AppData\\Roaming\\Python\\Python38\\site-packages\\tensorflow\\python\\framework\\ops.py\", line 3477, in _create_op_internal\n    ret = Operation(\n  File \"C:\\Users\\Daniel Krasovski\\AppData\\Roaming\\Python\\Python38\\site-packages\\tensorflow\\python\\framework\\ops.py\", line 1949, in __init__\n    self._traceback = tf_stack.extract_stack()\n",
      "\nDuring handling of the above exception, another exception occurred:\n",
      "\u001B[1;31mRuntimeError\u001B[0m                              Traceback (most recent call last)",
      "\u001B[1;32m~\\AppData\\Roaming\\Python\\Python38\\site-packages\\tensorflow\\python\\training\\py_checkpoint_reader.py\u001B[0m in \u001B[0;36mget_tensor\u001B[1;34m(self, tensor_str)\u001B[0m\n\u001B[0;32m     68\u001B[0m   \u001B[1;32mtry\u001B[0m\u001B[1;33m:\u001B[0m\u001B[1;33m\u001B[0m\u001B[1;33m\u001B[0m\u001B[0m\n\u001B[1;32m---> 69\u001B[1;33m     return CheckpointReader.CheckpointReader_GetTensor(\n\u001B[0m\u001B[0;32m     70\u001B[0m         self, compat.as_bytes(tensor_str))\n",
      "\u001B[1;31mRuntimeError\u001B[0m: Key _CHECKPOINTABLE_OBJECT_GRAPH not found in checkpoint",
      "\nDuring handling of the above exception, another exception occurred:\n",
      "\u001B[1;31mNotFoundError\u001B[0m                             Traceback (most recent call last)",
      "\u001B[1;32m~\\AppData\\Roaming\\Python\\Python38\\site-packages\\tensorflow\\python\\training\\saver.py\u001B[0m in \u001B[0;36mrestore\u001B[1;34m(self, sess, save_path)\u001B[0m\n\u001B[0;32m   1308\u001B[0m       \u001B[1;32mtry\u001B[0m\u001B[1;33m:\u001B[0m\u001B[1;33m\u001B[0m\u001B[1;33m\u001B[0m\u001B[0m\n\u001B[1;32m-> 1309\u001B[1;33m         \u001B[0mnames_to_keys\u001B[0m \u001B[1;33m=\u001B[0m \u001B[0mobject_graph_key_mapping\u001B[0m\u001B[1;33m(\u001B[0m\u001B[0msave_path\u001B[0m\u001B[1;33m)\u001B[0m\u001B[1;33m\u001B[0m\u001B[1;33m\u001B[0m\u001B[0m\n\u001B[0m\u001B[0;32m   1310\u001B[0m       \u001B[1;32mexcept\u001B[0m \u001B[0merrors\u001B[0m\u001B[1;33m.\u001B[0m\u001B[0mNotFoundError\u001B[0m\u001B[1;33m:\u001B[0m\u001B[1;33m\u001B[0m\u001B[1;33m\u001B[0m\u001B[0m\n",
      "\u001B[1;32m~\\AppData\\Roaming\\Python\\Python38\\site-packages\\tensorflow\\python\\training\\saver.py\u001B[0m in \u001B[0;36mobject_graph_key_mapping\u001B[1;34m(checkpoint_path)\u001B[0m\n\u001B[0;32m   1626\u001B[0m   \u001B[0mreader\u001B[0m \u001B[1;33m=\u001B[0m \u001B[0mpy_checkpoint_reader\u001B[0m\u001B[1;33m.\u001B[0m\u001B[0mNewCheckpointReader\u001B[0m\u001B[1;33m(\u001B[0m\u001B[0mcheckpoint_path\u001B[0m\u001B[1;33m)\u001B[0m\u001B[1;33m\u001B[0m\u001B[1;33m\u001B[0m\u001B[0m\n\u001B[1;32m-> 1627\u001B[1;33m   \u001B[0mobject_graph_string\u001B[0m \u001B[1;33m=\u001B[0m \u001B[0mreader\u001B[0m\u001B[1;33m.\u001B[0m\u001B[0mget_tensor\u001B[0m\u001B[1;33m(\u001B[0m\u001B[0mtrackable\u001B[0m\u001B[1;33m.\u001B[0m\u001B[0mOBJECT_GRAPH_PROTO_KEY\u001B[0m\u001B[1;33m)\u001B[0m\u001B[1;33m\u001B[0m\u001B[1;33m\u001B[0m\u001B[0m\n\u001B[0m\u001B[0;32m   1628\u001B[0m   \u001B[0mobject_graph_proto\u001B[0m \u001B[1;33m=\u001B[0m \u001B[1;33m(\u001B[0m\u001B[0mtrackable_object_graph_pb2\u001B[0m\u001B[1;33m.\u001B[0m\u001B[0mTrackableObjectGraph\u001B[0m\u001B[1;33m(\u001B[0m\u001B[1;33m)\u001B[0m\u001B[1;33m)\u001B[0m\u001B[1;33m\u001B[0m\u001B[1;33m\u001B[0m\u001B[0m\n",
      "\u001B[1;32m~\\AppData\\Roaming\\Python\\Python38\\site-packages\\tensorflow\\python\\training\\py_checkpoint_reader.py\u001B[0m in \u001B[0;36mget_tensor\u001B[1;34m(self, tensor_str)\u001B[0m\n\u001B[0;32m     73\u001B[0m   \u001B[1;32mexcept\u001B[0m \u001B[0mRuntimeError\u001B[0m \u001B[1;32mas\u001B[0m \u001B[0me\u001B[0m\u001B[1;33m:\u001B[0m\u001B[1;33m\u001B[0m\u001B[1;33m\u001B[0m\u001B[0m\n\u001B[1;32m---> 74\u001B[1;33m     \u001B[0merror_translator\u001B[0m\u001B[1;33m(\u001B[0m\u001B[0me\u001B[0m\u001B[1;33m)\u001B[0m\u001B[1;33m\u001B[0m\u001B[1;33m\u001B[0m\u001B[0m\n\u001B[0m\u001B[0;32m     75\u001B[0m \u001B[1;33m\u001B[0m\u001B[0m\n",
      "\u001B[1;32m~\\AppData\\Roaming\\Python\\Python38\\site-packages\\tensorflow\\python\\training\\py_checkpoint_reader.py\u001B[0m in \u001B[0;36merror_translator\u001B[1;34m(e)\u001B[0m\n\u001B[0;32m     34\u001B[0m       'matching files for') in error_message:\n\u001B[1;32m---> 35\u001B[1;33m     \u001B[1;32mraise\u001B[0m \u001B[0merrors_impl\u001B[0m\u001B[1;33m.\u001B[0m\u001B[0mNotFoundError\u001B[0m\u001B[1;33m(\u001B[0m\u001B[1;32mNone\u001B[0m\u001B[1;33m,\u001B[0m \u001B[1;32mNone\u001B[0m\u001B[1;33m,\u001B[0m \u001B[0merror_message\u001B[0m\u001B[1;33m)\u001B[0m\u001B[1;33m\u001B[0m\u001B[1;33m\u001B[0m\u001B[0m\n\u001B[0m\u001B[0;32m     36\u001B[0m   elif 'Sliced checkpoints are not supported' in error_message or (\n",
      "\u001B[1;31mNotFoundError\u001B[0m: Key _CHECKPOINTABLE_OBJECT_GRAPH not found in checkpoint",
      "\nDuring handling of the above exception, another exception occurred:\n",
      "\u001B[1;31mNotFoundError\u001B[0m                             Traceback (most recent call last)",
      "\u001B[1;32m<ipython-input-57-29ea1d34a218>\u001B[0m in \u001B[0;36m<module>\u001B[1;34m\u001B[0m\n\u001B[1;32m----> 1\u001B[1;33m \u001B[0mmodel\u001B[0m\u001B[1;33m.\u001B[0m\u001B[0mload\u001B[0m\u001B[1;33m(\u001B[0m\u001B[1;34m'models/model.tflearn'\u001B[0m\u001B[1;33m)\u001B[0m\u001B[1;33m\u001B[0m\u001B[1;33m\u001B[0m\u001B[0m\n\u001B[0m\u001B[0;32m      2\u001B[0m \u001B[1;33m\u001B[0m\u001B[0m\n",
      "\u001B[1;32m~\\anaconda3\\envs\\Project_Oreo\\lib\\site-packages\\tflearn\\models\\dnn.py\u001B[0m in \u001B[0;36mload\u001B[1;34m(self, model_file, weights_only, **optargs)\u001B[0m\n\u001B[0;32m    300\u001B[0m                      \u001B[0mcreated\u001B[0m \u001B[1;32mfor\u001B[0m \u001B[0mthe\u001B[0m \u001B[0mrestored\u001B[0m \u001B[0mvariables\u001B[0m\u001B[1;33m.\u001B[0m\u001B[1;33m\u001B[0m\u001B[1;33m\u001B[0m\u001B[0m\n\u001B[0;32m    301\u001B[0m         \"\"\"\n\u001B[1;32m--> 302\u001B[1;33m         \u001B[0mself\u001B[0m\u001B[1;33m.\u001B[0m\u001B[0mtrainer\u001B[0m\u001B[1;33m.\u001B[0m\u001B[0mrestore\u001B[0m\u001B[1;33m(\u001B[0m\u001B[0mmodel_file\u001B[0m\u001B[1;33m,\u001B[0m \u001B[0mweights_only\u001B[0m\u001B[1;33m,\u001B[0m \u001B[1;33m**\u001B[0m\u001B[0moptargs\u001B[0m\u001B[1;33m)\u001B[0m\u001B[1;33m\u001B[0m\u001B[1;33m\u001B[0m\u001B[0m\n\u001B[0m\u001B[0;32m    303\u001B[0m         \u001B[0mself\u001B[0m\u001B[1;33m.\u001B[0m\u001B[0msession\u001B[0m \u001B[1;33m=\u001B[0m \u001B[0mself\u001B[0m\u001B[1;33m.\u001B[0m\u001B[0mtrainer\u001B[0m\u001B[1;33m.\u001B[0m\u001B[0msession\u001B[0m\u001B[1;33m\u001B[0m\u001B[1;33m\u001B[0m\u001B[0m\n\u001B[0;32m    304\u001B[0m         self.predictor = Evaluator([self.net],\n",
      "\u001B[1;32m~\\anaconda3\\envs\\Project_Oreo\\lib\\site-packages\\tflearn\\helpers\\trainer.py\u001B[0m in \u001B[0;36mrestore\u001B[1;34m(self, model_file, trainable_variable_only, variable_name_map, scope_for_restore, create_new_session, verbose)\u001B[0m\n\u001B[0;32m    498\u001B[0m             \u001B[0mrestorer\u001B[0m\u001B[1;33m.\u001B[0m\u001B[0mrestore\u001B[0m\u001B[1;33m(\u001B[0m\u001B[0mself\u001B[0m\u001B[1;33m.\u001B[0m\u001B[0msession\u001B[0m\u001B[1;33m,\u001B[0m \u001B[0mmodel_file\u001B[0m\u001B[1;33m)\u001B[0m\u001B[1;33m\u001B[0m\u001B[1;33m\u001B[0m\u001B[0m\n\u001B[0;32m    499\u001B[0m         \u001B[1;32melif\u001B[0m \u001B[1;32mnot\u001B[0m \u001B[0mtrainable_variable_only\u001B[0m\u001B[1;33m:\u001B[0m\u001B[1;33m\u001B[0m\u001B[1;33m\u001B[0m\u001B[0m\n\u001B[1;32m--> 500\u001B[1;33m             \u001B[0mself\u001B[0m\u001B[1;33m.\u001B[0m\u001B[0mrestorer\u001B[0m\u001B[1;33m.\u001B[0m\u001B[0mrestore\u001B[0m\u001B[1;33m(\u001B[0m\u001B[0mself\u001B[0m\u001B[1;33m.\u001B[0m\u001B[0msession\u001B[0m\u001B[1;33m,\u001B[0m \u001B[0mmodel_file\u001B[0m\u001B[1;33m)\u001B[0m\u001B[1;33m\u001B[0m\u001B[1;33m\u001B[0m\u001B[0m\n\u001B[0m\u001B[0;32m    501\u001B[0m         \u001B[1;32melse\u001B[0m\u001B[1;33m:\u001B[0m\u001B[1;33m\u001B[0m\u001B[1;33m\u001B[0m\u001B[0m\n\u001B[0;32m    502\u001B[0m             \u001B[0mself\u001B[0m\u001B[1;33m.\u001B[0m\u001B[0mrestorer_trainvars\u001B[0m\u001B[1;33m.\u001B[0m\u001B[0mrestore\u001B[0m\u001B[1;33m(\u001B[0m\u001B[0mself\u001B[0m\u001B[1;33m.\u001B[0m\u001B[0msession\u001B[0m\u001B[1;33m,\u001B[0m \u001B[0mmodel_file\u001B[0m\u001B[1;33m)\u001B[0m\u001B[1;33m\u001B[0m\u001B[1;33m\u001B[0m\u001B[0m\n",
      "\u001B[1;32m~\\AppData\\Roaming\\Python\\Python38\\site-packages\\tensorflow\\python\\training\\saver.py\u001B[0m in \u001B[0;36mrestore\u001B[1;34m(self, sess, save_path)\u001B[0m\n\u001B[0;32m   1312\u001B[0m         \u001B[1;31m# is a graph mismatch. Re-raise the original error with\u001B[0m\u001B[1;33m\u001B[0m\u001B[1;33m\u001B[0m\u001B[1;33m\u001B[0m\u001B[0m\n\u001B[0;32m   1313\u001B[0m         \u001B[1;31m# a helpful message (b/110263146)\u001B[0m\u001B[1;33m\u001B[0m\u001B[1;33m\u001B[0m\u001B[1;33m\u001B[0m\u001B[0m\n\u001B[1;32m-> 1314\u001B[1;33m         raise _wrap_restore_error_with_msg(\n\u001B[0m\u001B[0;32m   1315\u001B[0m             err, \"a Variable name or other graph key that is missing\")\n\u001B[0;32m   1316\u001B[0m \u001B[1;33m\u001B[0m\u001B[0m\n",
      "\u001B[1;31mNotFoundError\u001B[0m: Restoring from checkpoint failed. This is most likely due to a Variable name or other graph key that is missing from the checkpoint. Please ensure that you have not altered the graph expected based on the checkpoint. Original error:\n\nKey Accuracy/Mean/moving_avg_1 not found in checkpoint\n\t [[node save_34/RestoreV2 (defined at C:\\Users\\Daniel Krasovski\\anaconda3\\envs\\Project_Oreo\\lib\\site-packages\\tflearn\\helpers\\trainer.py:149) ]]\n\nOriginal stack trace for 'save_34/RestoreV2':\n  File \"C:\\Users\\Daniel Krasovski\\anaconda3\\envs\\Project_Oreo\\lib\\runpy.py\", line 194, in _run_module_as_main\n    return _run_code(code, main_globals, None,\n  File \"C:\\Users\\Daniel Krasovski\\anaconda3\\envs\\Project_Oreo\\lib\\runpy.py\", line 87, in _run_code\n    exec(code, run_globals)\n  File \"C:\\Users\\Daniel Krasovski\\anaconda3\\envs\\Project_Oreo\\lib\\site-packages\\ipykernel_launcher.py\", line 16, in <module>\n    app.launch_new_instance()\n  File \"C:\\Users\\Daniel Krasovski\\anaconda3\\envs\\Project_Oreo\\lib\\site-packages\\traitlets\\config\\application.py\", line 845, in launch_instance\n    app.start()\n  File \"C:\\Users\\Daniel Krasovski\\anaconda3\\envs\\Project_Oreo\\lib\\site-packages\\ipykernel\\kernelapp.py\", line 612, in start\n    self.io_loop.start()\n  File \"C:\\Users\\Daniel Krasovski\\anaconda3\\envs\\Project_Oreo\\lib\\site-packages\\tornado\\platform\\asyncio.py\", line 199, in start\n    self.asyncio_loop.run_forever()\n  File \"C:\\Users\\Daniel Krasovski\\anaconda3\\envs\\Project_Oreo\\lib\\asyncio\\base_events.py\", line 570, in run_forever\n    self._run_once()\n  File \"C:\\Users\\Daniel Krasovski\\anaconda3\\envs\\Project_Oreo\\lib\\asyncio\\base_events.py\", line 1859, in _run_once\n    handle._run()\n  File \"C:\\Users\\Daniel Krasovski\\anaconda3\\envs\\Project_Oreo\\lib\\asyncio\\events.py\", line 81, in _run\n    self._context.run(self._callback, *self._args)\n  File \"C:\\Users\\Daniel Krasovski\\anaconda3\\envs\\Project_Oreo\\lib\\site-packages\\tornado\\ioloop.py\", line 688, in <lambda>\n    lambda f: self._run_callback(functools.partial(callback, future))\n  File \"C:\\Users\\Daniel Krasovski\\anaconda3\\envs\\Project_Oreo\\lib\\site-packages\\tornado\\ioloop.py\", line 741, in _run_callback\n    ret = callback()\n  File \"C:\\Users\\Daniel Krasovski\\anaconda3\\envs\\Project_Oreo\\lib\\site-packages\\tornado\\gen.py\", line 814, in inner\n    self.ctx_run(self.run)\n  File \"C:\\Users\\Daniel Krasovski\\anaconda3\\envs\\Project_Oreo\\lib\\site-packages\\tornado\\gen.py\", line 775, in run\n    yielded = self.gen.send(value)\n  File \"C:\\Users\\Daniel Krasovski\\anaconda3\\envs\\Project_Oreo\\lib\\site-packages\\ipykernel\\kernelbase.py\", line 365, in process_one\n    yield gen.maybe_future(dispatch(*args))\n  File \"C:\\Users\\Daniel Krasovski\\anaconda3\\envs\\Project_Oreo\\lib\\site-packages\\tornado\\gen.py\", line 234, in wrapper\n    yielded = ctx_run(next, result)\n  File \"C:\\Users\\Daniel Krasovski\\anaconda3\\envs\\Project_Oreo\\lib\\site-packages\\ipykernel\\kernelbase.py\", line 268, in dispatch_shell\n    yield gen.maybe_future(handler(stream, idents, msg))\n  File \"C:\\Users\\Daniel Krasovski\\anaconda3\\envs\\Project_Oreo\\lib\\site-packages\\tornado\\gen.py\", line 234, in wrapper\n    yielded = ctx_run(next, result)\n  File \"C:\\Users\\Daniel Krasovski\\anaconda3\\envs\\Project_Oreo\\lib\\site-packages\\ipykernel\\kernelbase.py\", line 543, in execute_request\n    self.do_execute(\n  File \"C:\\Users\\Daniel Krasovski\\anaconda3\\envs\\Project_Oreo\\lib\\site-packages\\tornado\\gen.py\", line 234, in wrapper\n    yielded = ctx_run(next, result)\n  File \"C:\\Users\\Daniel Krasovski\\anaconda3\\envs\\Project_Oreo\\lib\\site-packages\\ipykernel\\ipkernel.py\", line 306, in do_execute\n    res = shell.run_cell(code, store_history=store_history, silent=silent)\n  File \"C:\\Users\\Daniel Krasovski\\anaconda3\\envs\\Project_Oreo\\lib\\site-packages\\ipykernel\\zmqshell.py\", line 536, in run_cell\n    return super(ZMQInteractiveShell, self).run_cell(*args, **kwargs)\n  File \"C:\\Users\\Daniel Krasovski\\anaconda3\\envs\\Project_Oreo\\lib\\site-packages\\IPython\\core\\interactiveshell.py\", line 2877, in run_cell\n    result = self._run_cell(\n  File \"C:\\Users\\Daniel Krasovski\\anaconda3\\envs\\Project_Oreo\\lib\\site-packages\\IPython\\core\\interactiveshell.py\", line 2923, in _run_cell\n    return runner(coro)\n  File \"C:\\Users\\Daniel Krasovski\\anaconda3\\envs\\Project_Oreo\\lib\\site-packages\\IPython\\core\\async_helpers.py\", line 68, in _pseudo_sync_runner\n    coro.send(None)\n  File \"C:\\Users\\Daniel Krasovski\\anaconda3\\envs\\Project_Oreo\\lib\\site-packages\\IPython\\core\\interactiveshell.py\", line 3146, in run_cell_async\n    has_raised = await self.run_ast_nodes(code_ast.body, cell_name,\n  File \"C:\\Users\\Daniel Krasovski\\anaconda3\\envs\\Project_Oreo\\lib\\site-packages\\IPython\\core\\interactiveshell.py\", line 3338, in run_ast_nodes\n    if (await self.run_code(code, result,  async_=asy)):\n  File \"C:\\Users\\Daniel Krasovski\\anaconda3\\envs\\Project_Oreo\\lib\\site-packages\\IPython\\core\\interactiveshell.py\", line 3418, in run_code\n    exec(code_obj, self.user_global_ns, self.user_ns)\n  File \"<ipython-input-54-b216df407687>\", line 9, in <module>\n    model = tflearn.DNN(net, tensorboard_dir='tflearn_logs')\n  File \"C:\\Users\\Daniel Krasovski\\anaconda3\\envs\\Project_Oreo\\lib\\site-packages\\tflearn\\models\\dnn.py\", line 57, in __init__\n    self.trainer = Trainer(self.train_ops,\n  File \"C:\\Users\\Daniel Krasovski\\anaconda3\\envs\\Project_Oreo\\lib\\site-packages\\tflearn\\helpers\\trainer.py\", line 149, in __init__\n    self.restorer = tf.train.Saver(\n  File \"C:\\Users\\Daniel Krasovski\\AppData\\Roaming\\Python\\Python38\\site-packages\\tensorflow\\python\\training\\saver.py\", line 836, in __init__\n    self.build()\n  File \"C:\\Users\\Daniel Krasovski\\AppData\\Roaming\\Python\\Python38\\site-packages\\tensorflow\\python\\training\\saver.py\", line 848, in build\n    self._build(self._filename, build_save=True, build_restore=True)\n  File \"C:\\Users\\Daniel Krasovski\\AppData\\Roaming\\Python\\Python38\\site-packages\\tensorflow\\python\\training\\saver.py\", line 876, in _build\n    self.saver_def = self._builder._build_internal(  # pylint: disable=protected-access\n  File \"C:\\Users\\Daniel Krasovski\\AppData\\Roaming\\Python\\Python38\\site-packages\\tensorflow\\python\\training\\saver.py\", line 515, in _build_internal\n    restore_op = self._AddRestoreOps(filename_tensor, saveables,\n  File \"C:\\Users\\Daniel Krasovski\\AppData\\Roaming\\Python\\Python38\\site-packages\\tensorflow\\python\\training\\saver.py\", line 335, in _AddRestoreOps\n    all_tensors = self.bulk_restore(filename_tensor, saveables, preferred_shard,\n  File \"C:\\Users\\Daniel Krasovski\\AppData\\Roaming\\Python\\Python38\\site-packages\\tensorflow\\python\\training\\saver.py\", line 583, in bulk_restore\n    return io_ops.restore_v2(filename_tensor, names, slices, dtypes)\n  File \"C:\\Users\\Daniel Krasovski\\AppData\\Roaming\\Python\\Python38\\site-packages\\tensorflow\\python\\ops\\gen_io_ops.py\", line 1520, in restore_v2\n    _, _, _op, _outputs = _op_def_library._apply_op_helper(\n  File \"C:\\Users\\Daniel Krasovski\\AppData\\Roaming\\Python\\Python38\\site-packages\\tensorflow\\python\\framework\\op_def_library.py\", line 742, in _apply_op_helper\n    op = g._create_op_internal(op_type_name, inputs, dtypes=None,\n  File \"C:\\Users\\Daniel Krasovski\\AppData\\Roaming\\Python\\Python38\\site-packages\\tensorflow\\python\\framework\\ops.py\", line 3477, in _create_op_internal\n    ret = Operation(\n  File \"C:\\Users\\Daniel Krasovski\\AppData\\Roaming\\Python\\Python38\\site-packages\\tensorflow\\python\\framework\\ops.py\", line 1949, in __init__\n    self._traceback = tf_stack.extract_stack()\n"
     ]
    }
   ],
   "source": [
    "model.load('models/model.tflearn')"
   ],
   "metadata": {
    "collapsed": false,
    "pycharm": {
     "name": "#%%\n"
    }
   }
  },
  {
   "cell_type": "code",
   "execution_count": null,
   "outputs": [],
   "source": [
    "# create a data structure to hold user context\n",
    "context = {}\n",
    "\n",
    "ERROR_THRESHOLD = 0.25\n",
    "def classify(sentence):\n",
    "    # generate probabilities from the model\n",
    "    results = model.predict([bow(sentence, words)])[0]\n",
    "    # filter out predictions below a threshold\n",
    "    results = [[i,r] for i,r in enumerate(results) if r>ERROR_THRESHOLD]\n",
    "    # sort by strength of probability\n",
    "    results.sort(key=lambda x: x[1], reverse=True)\n",
    "    return_list = []\n",
    "    for r in results:\n",
    "        return_list.append((classes[r[0]], r[1]))\n",
    "    # return tuple of intent and probability\n",
    "    return return_list\n",
    "\n",
    "def response(sentence, userID='123', show_details=False):\n",
    "    results = classify(sentence)\n",
    "    # if we have a classification then find the matching intent tag\n",
    "    if results:\n",
    "        # loop as long as there are matches to process\n",
    "        while results:\n",
    "            for i in intents['intents']:\n",
    "                # find a tag matching the first result\n",
    "                if i['tag'] == results[0][0]:\n",
    "                    # set context for this intent if necessary\n",
    "                    if 'context_set' in i:\n",
    "                        if show_details: print ('context:', i['context_set'])\n",
    "                        context[userID] = i['context_set']\n",
    "\n",
    "                    # check if this intent is contextual and applies to this user's conversation\n",
    "                    if not 'context_filter' in i or \\\n",
    "                        (userID in context and 'context_filter' in i and i['context_filter'] == context[userID]):\n",
    "                        if show_details: print ('tag:', i['tag'])\n",
    "                        # a random response from the intent\n",
    "                        return print(random.choice(i['responses']))\n",
    "\n",
    "            results.pop(0)"
   ],
   "metadata": {
    "collapsed": false,
    "pycharm": {
     "name": "#%%\n"
    }
   }
  },
  {
   "cell_type": "code",
   "execution_count": null,
   "outputs": [],
   "source": [
    "classify('is there english movie?')"
   ],
   "metadata": {
    "collapsed": false,
    "pycharm": {
     "name": "#%%\n"
    }
   }
  },
  {
   "cell_type": "code",
   "execution_count": null,
   "outputs": [],
   "source": [
    "#response('is there english movie?')"
   ],
   "metadata": {
    "collapsed": false,
    "pycharm": {
     "name": "#%%\n"
    }
   }
  }
 ],
 "metadata": {
  "kernelspec": {
   "display_name": "Python 3",
   "language": "python",
   "name": "python3"
  },
  "language_info": {
   "codemirror_mode": {
    "name": "ipython",
    "version": 2
   },
   "file_extension": ".py",
   "mimetype": "text/x-python",
   "name": "python",
   "nbconvert_exporter": "python",
   "pygments_lexer": "ipython2",
   "version": "2.7.6"
  }
 },
 "nbformat": 4,
 "nbformat_minor": 0
}